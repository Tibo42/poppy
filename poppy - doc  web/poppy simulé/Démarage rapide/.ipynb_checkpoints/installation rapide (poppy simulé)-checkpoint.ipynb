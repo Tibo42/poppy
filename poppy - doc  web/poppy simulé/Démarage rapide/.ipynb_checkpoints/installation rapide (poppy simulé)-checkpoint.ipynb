{
 "cells": [
  {
   "cell_type": "markdown",
   "metadata": {},
   "source": [
    "<img src=\"png/poppy.png\" HEIGHT=200 WIDTH=200 ALIGN=right>\n",
    "<img src=\"png/inria.jpg\" HEIGHT=150 WIDTH=325 ALIGN=left >"
   ]
  },
  {
   "cell_type": "markdown",
   "metadata": {},
   "source": [
    "<img src=\"png/diagramme.png\" HEIGHT=720 WIDTH=920 ALIGN=center>"
   ]
  },
  {
   "cell_type": "markdown",
   "metadata": {},
   "source": [
    "<img src=\"png/ps.png\" ALIGN=left >\n",
    "#: installation en 3 étapes.\n",
    "\n",
    "\n",
    "<br>\n",
    "1. installation langage python\n",
    "2. installation bibliothèque pypot\n",
    "3. installation simulateur V-REP\n",
    "\n",
    "Documentation détaillées [ici](https://github.com/HumaRobotics/poppy-examples/blob/master/doc/softwareGuide/softwareGuide.pdf) (anglais)"
   ]
  },
  {
   "cell_type": "markdown",
   "metadata": {},
   "source": [
    "<img src=\"png/b1j.png\" ALIGN=left >\n",
    "###Python - anaconda\n",
    "#####Téléchargement\n",
    "\n",
    "[<img src=\"png/clap.png\" HEIGHT=75 WIDTH=75 ALIGN=left>](https://www.youtube.com/watch?v=kw9lQwdOlOs)<br>\n",
    "\n",
    "[vidéo démonstrative](https://www.youtube.com/watch?v=kw9lQwdOlOs) <br><br><br>\n",
    "\n",
    "Rendez-vous sur le site python - anaconda pour télécharger python 2.7 ainsi que l'ensemble des modules nécéssaires.\n",
    "\n",
    "#####Installation\n",
    "\n",
    "[<img src=\"png/clap.png\" HEIGHT=75 WIDTH=75 ALIGN=left>](https://www.youtube.com/watch?v=kRorlBKqQHI)<br>\n",
    "\n",
    "[vidéo démonstrative](https://www.youtube.com/watch?v=kRorlBKqQHI) <br><br><br>\n",
    "\n",
    "Lancer le fichier exécutable (.exe) que vous venez de télécharger et laissez vous guider.\n",
    "\n",
    "\n",
    "Si vous disposez déja de python, vérifiez que vous disposez des modules :\n",
    "\n",
    "pyserial / numpy / scipy/ enum34 / sphinx / PyQt4 / bottle / tornoado\n",
    "\n",
    "Pour connaître les modules installés sur l'ordinateur.\n",
    "\n",
    "- Tapez, depuis l'invite de commande ( cmd - terminal ...): python\n",
    "- Puis tapez: help()\n",
    "- Enfin tapez: modules\n",
    "Vous aurez alors la liste de l'ensemble des modules installés sur votre ordinateur.\n",
    "\n",
    "#####Vérification\n",
    "\n",
    "[<img src=\"png/clap.png\" HEIGHT=75 WIDTH=75 ALIGN=left>](https://www.youtube.com/watch?v=28qgxnCH3uY)<br>\n",
    "\n",
    "[vidéo démonstrative](https://www.youtube.com/watch?v=28qgxnCH3uY) <br><br><br>\n",
    "\n",
    "- Ouvrir un terminal ('invite de commande', 'cmd', etc suivant les versions).\n",
    "- Tapez: python\n",
    "Des informations relatives à votre installation s'affichent: tout s'est bien passé!\n",
    "Si ce n'est pas le cas, référez-vous à la documentation et au forum pour soumettre votre code d'erreur."
   ]
  },
  {
   "cell_type": "markdown",
   "metadata": {},
   "source": [
    "<img src=\"png/b2j.png\" ALIGN=left >\n",
    "###Installation de la bibliothèque permettant le contrôle de Poppy\n",
    "\n",
    "[<img src=\"png/clap.png\" HEIGHT=75 WIDTH=75 ALIGN=left>](https://www.youtube.com/watch?v=JBMZ2IWwvis)<br>\n",
    "\n",
    "[vidéo démonstrative](https://www.youtube.com/watch?v=JBMZ2IWwvis) <br><br><br>\n",
    "\n",
    "- Ouvrir un terminal (si vous ne savez pas ouvrir un terminal cliquez ici.\n",
    "- Tapez: pip install pypot\n",
    "\n",
    "la bibliothèque pypot (qui gère le robot) s'installe.\n",
    "\n",
    "- Tapez: pip install poppy-humanoid\n",
    "\n",
    "la bibliothèque poppy-humanoid s'installe.\n",
    "\n",
    "D'autres bibliothèques comme <b>poppy-torso</b>, <b>poppy-ergo</b> existent, vous pouvez les installer de la même manière.\n",
    " "
   ]
  },
  {
   "cell_type": "markdown",
   "metadata": {},
   "source": [
    "<img src=\"png/b3j.png\" ALIGN=left >\n",
    "###Installation V-REP\n",
    "\n",
    "[<img src=\"png/clap.png\" HEIGHT=75 WIDTH=75 ALIGN=left>](https://www.youtube.com/watch?v=JBMZ2IWwvis)<br>\n",
    "\n",
    "[vidéo démonstrative](https://www.youtube.com/watch?v=JBMZ2IWwvis) <br><br><br>\n",
    "\n",
    "Téléchargez [V-REP](http://www.coppeliarobotics.com/downloads.html) version EDU; puis laissez vous guider.\n",
    "\n",
    "Si la communication entre python et V-REP ne s'effectue pas, rendez vous sur: [Enabling the Remote API](http://www.coppeliarobotics.com/helpFiles/en/remoteApiClientSide.htm)\n"
   ]
  },
  {
   "cell_type": "markdown",
   "metadata": {},
   "source": [
    "#Démarrage Rapide avec Poppy Simulé\n",
    "\n",
    "### - Ouvrir V-REP\n",
    "### - Ouvrir Jupyter - ipython\n",
    "\n",
    "[<img src=\"png/clap.png\" HEIGHT=75 WIDTH=75 ALIGN=left>](https://www.youtube.com/watch?v=roWqTz9fQSE)<br>\n",
    "\n",
    "[vidéo démonstrative](https://www.youtube.com/watch?v=roWqTz9fQSE) <br><br><br>\n",
    "\n",
    "- via un terminal avec la commande : ipython notebook\n",
    "- via l'exécutable: rechercher dans 'tout les programmes' anaconda\\IPython (Py 2.7) Notebook\n",
    "- via l'exécutable 'Launcher' : rechercher dans 'tout les programmes' anaconda\\Launcher\n",
    "\n",
    "Ensuite exécutez la commande python suivante:"
   ]
  },
  {
   "cell_type": "code",
   "execution_count": null,
   "metadata": {
    "collapsed": false
   },
   "outputs": [],
   "source": [
    "from poppy.creatures import PoppyHumanoid\n",
    "creature = PoppyHumanoid(simulator='vrep')"
   ]
  },
  {
   "cell_type": "markdown",
   "metadata": {},
   "source": [
    "### - Ouvrir snap\n",
    "\n",
    "[<img src=\"png/clap.png\" HEIGHT=75 WIDTH=75 ALIGN=left>](https://www.youtube.com/watch?v=-BFPLjg7igY&feature=youtu.be)<br>\n",
    "\n",
    "[vidéo démonstrative](https://www.youtube.com/watch?v=-BFPLjg7igY&feature=youtu.be) <br><br><br>\n",
    "\n",
    "- Cliquez puis enregistrez la page web suivante: [poppy-block-for-snap.xml](https://github.com/poppy-project/pypot/blob/master/pypot/server/pypot-snap-blocks.xml)\n",
    "- Ouvrez V-REP, puis Snap! ( version web [ici](http://snap.berkeley.edu/run);\n",
    "- Une fois Snap! ouvert, importez le fichier xml que vous venez d'enregistrer.\n",
    "\n",
    "Ensuite exécutez la commande python suivante:"
   ]
  },
  {
   "cell_type": "code",
   "execution_count": null,
   "metadata": {
    "collapsed": true
   },
   "outputs": [],
   "source": [
    "from poppy.creatures import PoppyHumanoid\n",
    "creature = PoppyHumanoid(simulator='vrep', use_snap=True)\n",
    "creature.snap.run()"
   ]
  }
 ],
 "metadata": {
  "kernelspec": {
   "display_name": "Python 2",
   "language": "python",
   "name": "python2"
  },
  "language_info": {
   "codemirror_mode": {
    "name": "ipython",
    "version": 2
   },
   "file_extension": ".py",
   "mimetype": "text/x-python",
   "name": "python",
   "nbconvert_exporter": "python",
   "pygments_lexer": "ipython2",
   "version": "2.7.9"
  }
 },
 "nbformat": 4,
 "nbformat_minor": 0
}
