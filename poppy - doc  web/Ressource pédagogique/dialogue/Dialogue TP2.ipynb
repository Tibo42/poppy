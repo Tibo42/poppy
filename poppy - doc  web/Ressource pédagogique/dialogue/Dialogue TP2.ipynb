{
 "cells": [
  {
   "cell_type": "markdown",
   "metadata": {},
   "source": [
    "#ET – Niveau 1 - Python\n",
    "\n",
    "##TP2\n",
    "\n",
    "###Et si on communiquait..."
   ]
  },
  {
   "cell_type": "code",
   "execution_count": null,
   "metadata": {
    "collapsed": true
   },
   "outputs": [],
   "source": [
    "from poppy.creatures import PoppyTorso\n",
    "poppy=PoppyTorso(simulator='vrep')"
   ]
  },
  {
   "cell_type": "code",
   "execution_count": null,
   "metadata": {
    "collapsed": false
   },
   "outputs": [],
   "source": [
    "# oui\n",
    "for i in range(0,3):\n",
    "    poppy.head_y.goto_position(15,0.5,wait=True)\n",
    "    poppy.head_y.goto_position(-15,0.5,wait=True)\n",
    "    print i\n",
    "poppy.head_y.goto_position(-15,0.1,wait=True)"
   ]
  },
  {
   "cell_type": "markdown",
   "metadata": {},
   "source": [
    "#### Trouvons une méthode pour communiquer."
   ]
  },
  {
   "cell_type": "code",
   "execution_count": null,
   "metadata": {
    "collapsed": false
   },
   "outputs": [],
   "source": [
    "import time\n",
    "\n",
    "position_start = poppy.head_y.present_position\n",
    "\n",
    "poppy.head_y.goal_position = 10\n",
    "time.sleep(1)\n",
    "poppy.head_y.goal_position = -15\n",
    "time.sleep(1)\n",
    "poppy.head_y.goal_position = position_start"
   ]
  },
  {
   "cell_type": "markdown",
   "metadata": {},
   "source": [
    "#### Super, alors, on va décréter que:\n",
    "\n",
    "1. Si tu es d'accord, tu lèves le bras droit,\n",
    "2. Si tu n'es pas d'accord, tu lèves le bras gauche,\n",
    "3. Si tu ne sais pas, tu lèves puis descends les deux bras.\n",
    "\n",
    "####NB: Ce sont des convention arbitraire pour établir une forme de communication ; mais tu peux choisir d'associer un autre mouvement à un autre concept pour dialoguer avec Poppy  \n",
    "\n",
    "Trouves le ou les bon(s) moteur(s), le bon axe, et la bonne position pour réaliser ces actions.\n",
    "\n",
    "#### C'est parti!"
   ]
  },
  {
   "cell_type": "code",
   "execution_count": null,
   "metadata": {
    "collapsed": true
   },
   "outputs": [],
   "source": [
    "# d'accord\n",
    "\n",
    "\n"
   ]
  },
  {
   "cell_type": "code",
   "execution_count": null,
   "metadata": {
    "collapsed": true
   },
   "outputs": [],
   "source": [
    "# pas d'accord\n",
    "\n",
    "\n"
   ]
  },
  {
   "cell_type": "code",
   "execution_count": null,
   "metadata": {
    "collapsed": true
   },
   "outputs": [],
   "source": [
    "# ne sait pas\n",
    "\n",
    "\n"
   ]
  },
  {
   "cell_type": "markdown",
   "metadata": {},
   "source": [
    "_________________________________________________________________\n",
    "\n",
    "\n",
    "#### Tu as raté? c'est pas grâve, recommmence, essaies ces lignes pour redémarrer :"
   ]
  },
  {
   "cell_type": "code",
   "execution_count": null,
   "metadata": {
    "collapsed": false
   },
   "outputs": [],
   "source": [
    "messager.reset_simulation()"
   ]
  },
  {
   "cell_type": "markdown",
   "metadata": {},
   "source": [
    "#### Encore buger ? essaies celles-ci :"
   ]
  },
  {
   "cell_type": "code",
   "execution_count": null,
   "metadata": {
    "collapsed": false
   },
   "outputs": [],
   "source": [
    "import pypot\n",
    "poppy.stop_simulation()\n",
    "pypot.vrep.close_all_connections()\n",
    "\n",
    "from poppy.creatures import PoppyTorso\n",
    "poppy=PoppyTorso(simulator='vrep')"
   ]
  },
  {
   "cell_type": "markdown",
   "metadata": {},
   "source": [
    "#### Tu as fini? coupes la simulation ici:"
   ]
  },
  {
   "cell_type": "code",
   "execution_count": null,
   "metadata": {
    "collapsed": true
   },
   "outputs": [],
   "source": [
    "import pypot\n",
    "poppy.stop_simulation()\n",
    "pypot.vrep.close_all_connections()"
   ]
  }
 ],
 "metadata": {
  "kernelspec": {
   "display_name": "Python 2",
   "language": "python",
   "name": "python2"
  },
  "language_info": {
   "codemirror_mode": {
    "name": "ipython",
    "version": 2
   },
   "file_extension": ".py",
   "mimetype": "text/x-python",
   "name": "python",
   "nbconvert_exporter": "python",
   "pygments_lexer": "ipython2",
   "version": "2.7.9"
  }
 },
 "nbformat": 4,
 "nbformat_minor": 0
}
