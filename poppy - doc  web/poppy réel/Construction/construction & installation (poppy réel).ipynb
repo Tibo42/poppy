{
 "cells": [
  {
   "cell_type": "markdown",
   "metadata": {},
   "source": [
    "<img src=\"png/poppy.png\" HEIGHT=200 WIDTH=200 ALIGN=right>\n",
    "<img src=\"png/inria.jpg\" HEIGHT=150 WIDTH=325 ALIGN=left >"
   ]
  },
  {
   "cell_type": "markdown",
   "metadata": {},
   "source": [
    "<img src=\"png/diagramme.png\" HEIGHT=720 WIDTH=920 ALIGN=center>"
   ]
  },
  {
   "cell_type": "markdown",
   "metadata": {},
   "source": [
    "##Démarrage Rapide avec Poppy Réel\n",
    "\n",
    "Via votre navigateur web ([chrome](https://www.google.com/chrome/browser/desktop/index.html) / [firefox](https://www.mozilla.org/fr/firefox/desktop/) / etc) rendez-vous sur la page http://poppy.local\n",
    "\n",
    "\n",
    "NB: Poppy est le nom par défaut, il peut avoir été changé.\n",
    "\n",
    "<img src=\"png/poppy_local.jpg\" ALIGN=left >"
   ]
  },
  {
   "cell_type": "markdown",
   "metadata": {},
   "source": [
    "<img src=\"png/pr.png\" ALIGN=left >\n",
    "<br><br><br><br>\n",
    "\n",
    "####Où acheter : [Génération robots ](http://www.generationrobots.com/en/279-poppy-opensource-robotics-platform)\n",
    "\n",
    "<img src=\"png/b1v.png\" ALIGN=left >\n",
    "###Construction:\n",
    "<br>\n",
    "#####ATTENTION au <U>placement du palonnier</U> sur les moteurs et au placement des pièces plastiques sur le palonnier:\n",
    "\n",
    "<img src=\"png/robotis_dynamixel_axe_mark.jpg\" HEIGHT=230 WIDTH=275  ALIGN=left>\n",
    "<img src=\"png/robotis_horn_mark.jpg\" HEIGHT=225 WIDTH=225 ALIGN=left >\n",
    "<img src=\"png/mark.PNG\" HEIGHT=225 WIDTH=225 ALIGN=left >\n",
    "<br><br><br><br><br><br><br><br><br><br><br>\n",
    "\n",
    "\n",
    "#####Plus de détails dans cette note: [Robotis Dynamixel Noobs Traps](https://github.com/poppy-project/Robotis-library/blob/master/doc/fr/robotis_tricks.md)\n",
    "<br>\n",
    "####Liste des pièces [ici](https://github.com/poppy-project/Poppy-multiarticulated-torso/blob/master/doc/fr/5_DoFs_trunk_BOM.md)\n",
    "<br>\n",
    "####Les 7 étapes de la construction\n",
    "<br>\n",
    "\n",
    "- [<img src=\"png/clap.png\" HEIGHT=25 WIDTH=25 ALIGN=left>](dw)[<b>Les 7 étapes en vidéos</b>](https://github.com/poppy-project/poppy-humanoid/blob/master/doc/en/getting_started.md): <br><br>\n",
    "    1. [<img src=\"png/clap.png\" HEIGHT=25 WIDTH=25 ALIGN=left>](http://youtu.be/LEHLdoBEr4Q)[Tronc](https://github.com/poppy-project/Poppy-multiarticulated-torso/blob/master/doc/fr/5_DoFs_humanoid_spine.md)<br>\n",
    "        * [<img src=\"png/clap.png\" HEIGHT=25 WIDTH=25 ALIGN=left>](http://youtu.be/9oNGV9ggHaE)[double MX28](https://github.com/poppy-project/Robotis-library/blob/master/doc/fr/double_MX28_assembly.md)<br><br>\n",
    "        * [<img src=\"png/clap.png\" HEIGHT=25 WIDTH=25 ALIGN=left>](http://youtu.be/83lrhXVNHYE)[double MX64](https://github.com/poppy-project/Robotis-library/blob/master/doc/fr/double_MX64_assembly.md)  (uniquement surversion Poppy humanoïde)\n",
    "        <br><br>\n",
    "    2. [<img src=\"png/clap.png\" HEIGHT=25 WIDTH=25 ALIGN=left>](http://youtu.be/qwrgV6tKTO8)[Poitrine](https://github.com/poppy-project/Poppy-multiarticulated-torso/blob/master/doc/fr/subassembly/chest_assembly_instructions.md)<br>\n",
    "        - [<img src=\"png/clap.png\" HEIGHT=25 WIDTH=25 ALIGN=left>](http://youtu.be/LXktU4MTITE)[Colonne vertébrale](https://github.com/poppy-project/Poppy-multiarticulated-torso/blob/master/doc/fr/subassembly/spine_assembly_instructions.md)<br><br>\n",
    "    3. [<img src=\"png/clap.png\" HEIGHT=25 WIDTH=25 ALIGN=left>](http://youtu.be/Oe5v21sTst8)[Bras Droit](https://github.com/poppy-project/Poppy-basic-arms/blob/master/doc/right_arm_assembly_instructions.md)\n",
    "        - [<img src=\"png/clap.png\" HEIGHT=25 WIDTH=25 ALIGN=left>](http://youtu.be/SUlM_mE3plc)[Right Forearm](https://github.com/poppy-project/Poppy-basic-arms/blob/master/doc/subassemblies/right_forearm_assembly_instructions.md)<br><br>\n",
    "        - [<img src=\"png/clap.png\" HEIGHT=25 WIDTH=25 ALIGN=left>](http://youtu.be/cYhGwD6r6NQ)[Right upper arm](https://github.com/poppy-project/Poppy-basic-arms/blob/master/doc/subassemblies/right_upper_arm_assembly.md)<br><br>\n",
    "        - [<img src=\"png/clap.png\" HEIGHT=25 WIDTH=25 ALIGN=left>](http://youtu.be/BdQcOAwZbMY)[Right upper-arm/shoulder](https://github.com/poppy-project/Poppy-basic-arms/blob/master/doc/subassemblies/right_upper_arm_shoulder_assembly.md)<br><br>\n",
    "    4. [<img src=\"png/clap.png\" HEIGHT=25 WIDTH=25 ALIGN=left>](http://youtu.be/TZb6_hVlmcA)[Bras gauche](https://github.com/poppy-project/Poppy-basic-arms/blob/master/doc/left_arm_assembly_instructions.md)\n",
    "        - [<img src=\"png/clap.png\" HEIGHT=25 WIDTH=25 ALIGN=left>](http://youtu.be/5FsPgEt4cfA)[Left Forearm](https://github.com/poppy-project/Poppy-basic-arms/blob/master/doc/subassemblies/left_forearm_assembly_instructions.md)<br><br>\n",
    "        - [<img src=\"png/clap.png\" HEIGHT=25 WIDTH=25 ALIGN=left>](http://youtu.be/MIjfAXShLJ4)[Left upper arm](https://github.com/poppy-project/Poppy-basic-arms/blob/master/doc/subassemblies/left_upper_arm_assembly.md)<br><br>\n",
    "        - [<img src=\"png/clap.png\" HEIGHT=25 WIDTH=25 ALIGN=left>](http://youtu.be/qCF_8-M5k1o)[Left upper-arm/shoulder](https://github.com/poppy-project/Poppy-basic-arms/blob/master/doc/subassemblies/left_upper_arm_shoulder_assembly.md)<br><br>\n",
    "    5. [<img src=\"png/clap.png\" HEIGHT=25 WIDTH=25 ALIGN=left>](http://youtu.be/Am1XBYv134Y)[Jambes](https://github.com/poppy-project/Poppy-lightweight-biped-legs/blob/master/doc/legs_assembly_instructions.md) (uniquement sur version Poppy humanoïde)\n",
    "        - [<img src=\"png/clap.png\" HEIGHT=25 WIDTH=25 ALIGN=left>](http://youtu.be/m6hKNlVGYlU)[Left leg](https://github.com/poppy-project/Poppy-lightweight-biped-legs/blob/master/doc/subassemblies/left_leg_assembly_instructions.md)<br><br>\n",
    "        - [<img src=\"png/clap.png\" HEIGHT=25 WIDTH=25 ALIGN=left>](http://youtu.be/_NwoFPaXKUg)[Right leg](https://github.com/poppy-project/Poppy-lightweight-biped-legs/blob/master/doc/subassemblies/right_leg_assembly_instructions.md)<br><br>\n",
    "        - [<img src=\"png/clap.png\" HEIGHT=25 WIDTH=25 ALIGN=left>](http://youtu.be/zrZhuS5VkG8)[Pelvis](https://github.com/poppy-project/Poppy-lightweight-biped-legs/blob/master/doc/subassemblies/pelvis_assembly_instructions.md)<br><br>\n",
    "    6. [<img src=\"png/clap.png\" HEIGHT=25 WIDTH=25 ALIGN=left>](http://youtu.be/5i0xVlrJc-8)[Jambes + Tronc](https://github.com/poppy-project/poppy-humanoid/blob/master/hardware/doc/Poppy_Humanoid_assembly_instructions.md#3--legstorso-asembly) (uniquement sur version Poppy humanoïde)<br><br>\n",
    "    7. [Tête](https://github.com/poppy-project/Poppy-minimal-head-design/blob/master/doc/poppy_wiring.md) (en)<br><br>\n",
    "\n",
    "Retrouvez la documentation Complète: [ici](https://github.com/HumaRobotics/poppy-examples/blob/master/doc/assemblyGuide/assemblyGuide.pdf)\n",
    "\n"
   ]
  },
  {
   "cell_type": "markdown",
   "metadata": {},
   "source": [
    "## <img src=\"png/b2v.png\" ALIGN=left >\n",
    "### Initialisation: \n",
    "<br>\n",
    "####établir une connexion SSH\n",
    "   - Poppy & l'ordinateur doivent être connectés sur le même routeur (e.g box internet)\n",
    "\n",
    "Pour la première connexion, utiliser un câble Ethernet pour Poppy\n",
    "\n",
    "#####<u>Sous Linux et Mac:</u>\n",
    "\n",
    "- ouvrir un teminal\n",
    "- taper: ssh odroid@odroid.local\n",
    "- mot de passe : 'odroid'\n",
    "\n",
    "\n",
    "#####<u>Sous Windows:</u>\n",
    "\n",
    "- télécharger & installer [Bonjour](https://support.apple.com/kb/DL999?viewlocale=fr_FR&locale=fr_FR) (permet de donner un alias à une adresse IP)\n",
    "- télécharger & installer [Putty](http://www.chiark.greenend.org.uk/~sgtatham/putty/download.html) (permet d'établir une connexion ssh)\n",
    "    - Ouvrir Putty / dans 'Host Name' \n",
    "    - taper : odroid@odroid.local\n",
    "\n",
    "[<img src=\"png/putty.PNG\" HEIGHT=540 WIDTH=520 ALIGN=center>]\n",
    "\n",
    "un terminal s'ouvre et vous demande:\n",
    "\n",
    "- le mot de passe : 'odroid'\n",
    "\n"
   ]
  },
  {
   "cell_type": "markdown",
   "metadata": {},
   "source": [
    "#### installation:\n",
    "\n",
    "dans le terminal (ouvert à l'étape précédente) taper : \n",
    "\n",
    "    curl -L https://raw.githubusercontent.com/poppy-project/poppy_install/master/poppy_setup.sh | sudo bash\n",
    "\n",
    "#####L'installation commence, et ferme le terminal une fois fini.\n",
    "\n",
    "- établir une nouvelle connexion ssh ; Attention le nom et mot de passe ont changé :\n",
    "    - ssh poppy@poppy.local\n",
    "    - mot de passe: 'poppy'\n"
   ]
  },
  {
   "cell_type": "markdown",
   "metadata": {},
   "source": [
    "<img src=\"png/b3v.png\" ALIGN=left >\n",
    "###Connexion:\n",
    "<br>\n",
    "Via votre navigateur web ([chrome](https://www.google.com/chrome/browser/desktop/index.html) / [firefox](https://www.mozilla.org/fr/firefox/desktop/) / etc) rendez-vous sur la page http://poppy.local\n",
    "\n",
    "<img src=\"png/poppy_local.jpg\" ALIGN=left >\n"
   ]
  }
 ],
 "metadata": {
  "kernelspec": {
   "display_name": "Python 2",
   "language": "python",
   "name": "python2"
  },
  "language_info": {
   "codemirror_mode": {
    "name": "ipython",
    "version": 2
   },
   "file_extension": ".py",
   "mimetype": "text/x-python",
   "name": "python",
   "nbconvert_exporter": "python",
   "pygments_lexer": "ipython2",
   "version": "2.7.9"
  }
 },
 "nbformat": 4,
 "nbformat_minor": 0
}
