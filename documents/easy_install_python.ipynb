{
 "cells": [
  {
   "cell_type": "markdown",
   "metadata": {},
   "source": [
    "#Premiers pas avec une créature\n",
    "\n",
    "## installation en 3 étapes:\n",
    "[vidéo démonstrative](https://www.youtube.com/watch?v=kw9lQwdOlOs&list=PLT6NsCw8bf8T5FG2LGk2y_KTdexi8A5BN)\n",
    "\n",
    "1. installation langage python \n",
    "2. installation créatures\n",
    "3. installation simulateur V-REP"
   ]
  },
  {
   "cell_type": "markdown",
   "metadata": {},
   "source": [
    "##1 - Python - anaconda"
   ]
  },
  {
   "cell_type": "markdown",
   "metadata": {},
   "source": [
    "###Téléchargement  \n",
    "[vidéo démonstrative](https://www.youtube.com/watch?v=kw9lQwdOlOs)"
   ]
  },
  {
   "cell_type": "markdown",
   "metadata": {},
   "source": [
    "Rendez vous sur le site [python - anaconda](http://continuum.io/downloads) pour télécharger python 2.7 ainsi que l'ensemble des modules nécéssaires."
   ]
  },
  {
   "cell_type": "markdown",
   "metadata": {},
   "source": [
    "###Installation\n",
    "[vidéo démonstrative](https://www.youtube.com/watch?v=kRorlBKqQHI)\n",
    "\n",
    "\n",
    "Lancer le fichier exécutable (.exe) que vous venez de télécharger et laissez vous guider.\n",
    "\n",
    "\n",
    "######Si vous disposez déja de python, vérifiez que vous disposez des modules : \n",
    "    pyserial / numpy / enum34 / sphinx / PyQt4 / bottle / tornoado\n",
    "            \n",
    "Pour connaitre les modules installés sur l'ordinateur.\n",
    "- Tapez, depuis l'invite de commande ( cmd - terminal ...): python\n",
    "- Puis tapez: help()\n",
    "- Enfin tapez: modules\n",
    "\n",
    "Vous aurez alors la liste de l'ensemble des modules installés sur votre ordinateur."
   ]
  },
  {
   "cell_type": "markdown",
   "metadata": {},
   "source": [
    "####Vérification\n",
    "[vidéo démonstrative](https://www.youtube.com/watch?v=28qgxnCH3uY)\n",
    "\n",
    "Ouvrir un terminal ('invite de commande', 'cmd', etc suivant les versions).<br>\n",
    "- Tapez: python\n",
    "\n",
    "Des informations relatives à votre installation s'affichent: tout s'est bien passé!<br>\n",
    "Si ce n'est pas le cas, référez vous à la documentation et au forum pour soumettre votre code d'erreur."
   ]
  },
  {
   "cell_type": "markdown",
   "metadata": {},
   "source": [
    "## 2 - installation créature\n",
    "[vidéo démonstrative](https://www.youtube.com/watch?v=JBMZ2IWwvis)\n",
    "\n",
    "Ouvrir un terminal (si vous ne savez pas ouvrir un teminal cliquez [ici](https://www.google.fr/search?q=ouvrir+un+%27invite+de+commande%27+windows&ie=utf-8&oe=utf-8&gws_rd=cr&ei=q2ljVaDdJozjU9rfgfgH).\n",
    "\n",
    "- Tapez: pip install pypot\n",
    "\n",
    "la bibliothèque pypot (qui gère le robot) s'installe.\n",
    "\n",
    "- Tapez: pip install poppy-humanoid\n",
    "\n",
    "la bibliothèque poppy-humanoid s'installe.\n",
    "\n",
    "D'autres bibliothèques comme poppy-torso, poppy-ergo existent, vous pouvez les installer de la même manière.\n"
   ]
  },
  {
   "cell_type": "markdown",
   "metadata": {},
   "source": [
    "##3 - Installation V-REP\n",
    "[vidéo démonstrative](https://www.youtube.com/watch?v=8leZA4GX9GI)\n",
    "\n",
    "Téléchargez [V-REP](http://www.coppeliarobotics.com/downloads.html) version EDU; \n",
    "puis laissez vous guider.\n",
    "\n",
    "Si la communication entre python et V-REP ne s'effectue pas, rendez vous sur: [Enabling the Remote API](http://www.coppeliarobotics.com/helpFiles/en/remoteApiClientSide.htm)\n"
   ]
  },
  {
   "cell_type": "markdown",
   "metadata": {},
   "source": [
    "##4 - Démarrer avec Poppy\n",
    "\n",
    "####Démarrer\n",
    "[vidéo démonstrative](https://www.youtube.com/watch?v=roWqTz9fQSE)\n",
    "\n",
    "- Oucrir V-REP\n",
    "- Ouvrir ipython\n",
    "    - via un terminal avec la commande : ipython notebook\n",
    "    - via l'exécutable: rechercher dans 'tout les programmes' anaconda\\IPython (Py 2.7) Notebook\n",
    "    - via l'exécutable 'Launcher' : rechercher dans 'tout les programmes' anaconda\\Launcher\n",
    "- Ouvrir un nouveau 'notebook python2' ou un fichier '.py'\n",
    "- éxécuter les commandes python suivantes:"
   ]
  },
  {
   "cell_type": "code",
   "execution_count": null,
   "metadata": {
    "collapsed": false
   },
   "outputs": [],
   "source": [
    "from poppy.creatures import PoppyHumanoid\n",
    "creature = PoppyHumanoid(simulator='vrep')"
   ]
  },
  {
   "cell_type": "markdown",
   "metadata": {},
   "source": [
    "####Redémarrer\n",
    "\n",
    "éxécuter les commandes suivantes:"
   ]
  },
  {
   "cell_type": "code",
   "execution_count": null,
   "metadata": {
    "collapsed": true
   },
   "outputs": [],
   "source": [
    "creature.reset_simulation()"
   ]
  },
  {
   "cell_type": "markdown",
   "metadata": {},
   "source": [
    "####Eteindre\n",
    "\n",
    "éxécuter les commandes suivantes:"
   ]
  },
  {
   "cell_type": "code",
   "execution_count": null,
   "metadata": {
    "collapsed": false
   },
   "outputs": [],
   "source": [
    "import pypot\n",
    "creature.stop_simulation()\n",
    "pypot.vrep.close_all_connections()"
   ]
  },
  {
   "cell_type": "markdown",
   "metadata": {},
   "source": [
    "####Bouger\n",
    "\n",
    "#####Poppy, tu es prêt ?"
   ]
  },
  {
   "cell_type": "code",
   "execution_count": null,
   "metadata": {
    "collapsed": false
   },
   "outputs": [],
   "source": [
    "# éteindre la simulation précédente...\n",
    "import pypot\n",
    "creature.stop_simulation()\n",
    "pypot.vrep.close_all_connections()"
   ]
  },
  {
   "cell_type": "code",
   "execution_count": null,
   "metadata": {
    "collapsed": false
   },
   "outputs": [],
   "source": [
    "# ...avant d'en démarrer une nouvelle.\n",
    "from poppy.creatures import PoppyHumanoid\n",
    "poppy = PoppyHumanoid(simulator='vrep')"
   ]
  },
  {
   "cell_type": "code",
   "execution_count": null,
   "metadata": {
    "collapsed": true
   },
   "outputs": [],
   "source": [
    "# Poppy dit oui\n",
    "for i in range(2):\n",
    "    poppy.head_y.goal_position = -20\n",
    "    poppy.head_y.goal_position = +20\n",
    "poppy.head_y.goal_position = 0"
   ]
  },
  {
   "cell_type": "markdown",
   "metadata": {
    "collapsed": true
   },
   "source": [
    "Trop vite, essaie encore..."
   ]
  },
  {
   "cell_type": "code",
   "execution_count": null,
   "metadata": {
    "collapsed": true
   },
   "outputs": [],
   "source": [
    "# Poppy dit oui\n",
    "import time\n",
    "for i in range(2):\n",
    "    poppy.head_y.goal_position = -20\n",
    "    time.sleep(1)\n",
    "    poppy.head_y.goal_position = +20\n",
    "    time.sleep(1)\n",
    "poppy.head_y.goal_position = 0"
   ]
  },
  {
   "cell_type": "markdown",
   "metadata": {},
   "source": [
    "Ici on utilise la fonction '<b>goal_position</b>', précédée du nom du moteur, précédée du nom de la créature.\n",
    "\n",
    "Elle accepte des valeurs alant de -180° à +180°<br>\n",
    "Passe à la ligne suivante, même si la position n'est pas encore atteinte."
   ]
  },
  {
   "cell_type": "markdown",
   "metadata": {},
   "source": [
    "#####Bonjour Poppy"
   ]
  },
  {
   "cell_type": "code",
   "execution_count": null,
   "metadata": {
    "collapsed": false
   },
   "outputs": [],
   "source": [
    "poppy.l_shoulder_x.goto_position(90,2)\n",
    "poppy.l_arm_z.goto_position(90,2)\n",
    "poppy.abs_z.goto_position(10,2)\n",
    "poppy.l_elbow_y.goto_position(-120,2,wait=True)\n",
    "\n",
    "for i in range(3):\n",
    "    poppy.l_elbow_y.goto_position(-90,0.5,wait=True)\n",
    "    poppy.l_elbow_y.goto_position(-120,0.5,wait=True)\n",
    "    \n",
    "poppy.l_shoulder_x.goto_position(0,2)\n",
    "poppy.l_arm_z.goto_position(0,2)\n",
    "poppy.abs_z.goto_position(0,2)\n",
    "poppy.l_elbow_y.goto_position(0,2)"
   ]
  },
  {
   "cell_type": "markdown",
   "metadata": {},
   "source": [
    "Ici on utilise la fonction '<b>goto_position</b>', précédée du nom du moteur, précédée du nom de la créature.\n",
    "\n",
    "Elle accepte entre 2 et 3 arguments:\n",
    " - la position en dégrès\n",
    " - le temps en secondes pour atteindre cette position\n",
    " - option facultative 'wait=True'\n",
    " \n",
    "L'option 'wait=True' permet d'attendre que la position soit atteinte avant de passer à la ligne suivante dans le code.<br>\n",
    "Par défaut 'wait=False' ne bloque pas le défilement, on peut donc lancer plusieurs moteurs au même moment."
   ]
  },
  {
   "cell_type": "markdown",
   "metadata": {},
   "source": [
    "#####Poppy, comment tu marches?"
   ]
  },
  {
   "cell_type": "code",
   "execution_count": null,
   "metadata": {
    "collapsed": false
   },
   "outputs": [],
   "source": [
    "print\"Réponse:\"\n",
    "print \"j'ai\", len( poppy.motors ), \"moteurs\"\n",
    "print \"il sont tous indexés dans une \", type( poppy.motors ), \"qui s'appelle poppy.motors \\n\\n la voici: \"\n",
    "for m in poppy.motors:\n",
    "    print \"-------------\"\n",
    "    print \"nom du moteur: \", m.name\n",
    "    print \"position actuel du moteur: \", m.present_position, \"degrès\""
   ]
  },
  {
   "cell_type": "markdown",
   "metadata": {},
   "source": [
    "#####Y à t-il d'autres créatures comme toi ?"
   ]
  },
  {
   "cell_type": "code",
   "execution_count": null,
   "metadata": {
    "collapsed": false
   },
   "outputs": [],
   "source": [
    "for i in range(3):\n",
    "    poppy.head_y.goto_position(-20,1)\n",
    "    poppy.head_y.goto_position(+20,1)\n",
    "poppy.head_y.goto_position(0,0.5)\n",
    "\n",
    "print \"Torso, Ergo, et toute la family\""
   ]
  },
  {
   "cell_type": "markdown",
   "metadata": {},
   "source": [
    "####Démarer avec d'autres créatures\n",
    "\n",
    "Retournez à l'étape 2 pour installer d'autres créatures, puis essayez les commandes suivantes:"
   ]
  },
  {
   "cell_type": "code",
   "execution_count": null,
   "metadata": {
    "collapsed": true
   },
   "outputs": [],
   "source": [
    "#si une simulation est active, n'oubliez pas de la quitter\n",
    "from poppy.creatures import PoppyTorso\n",
    "torso = PoppyTorso(simulator='vrep')"
   ]
  },
  {
   "cell_type": "markdown",
   "metadata": {},
   "source": [
    "ou"
   ]
  },
  {
   "cell_type": "code",
   "execution_count": null,
   "metadata": {
    "collapsed": true
   },
   "outputs": [],
   "source": [
    "from poppy.creatures import PoppyErgo\n",
    "ergo = PoppyErgo(simulator='vrep')"
   ]
  },
  {
   "cell_type": "markdown",
   "metadata": {},
   "source": [
    "etc\n",
    "\n",
    "Plus d'informations sur les prochaines créatures Poppy sur ce topic : [Poppy mini family](https://forum.poppy-project.org/t/cfc-extending-the-poppy-mini-family-we-need-your-help/1346)"
   ]
  },
  {
   "cell_type": "markdown",
   "metadata": {},
   "source": [
    "##5 - Achat, construction, créer sa créature :\n",
    "\n",
    "<u>Acheter : </u><br>\n",
    "Rendez vous sur : [Génération robots](http://www.generationrobots.com/en/279-poppy-opensource-robotics-platform) plusieurs modèles vous y sont proposés.\n",
    "\n",
    "\n",
    "<u>Construire : </u><br>\n",
    "Rendez vous sur :  [Assembling Poppy Humanoid](https://github.com/poppy-project/poppy-humanoid/blob/master/hardware/doc/Poppy_Humanoid_assembly_instructions.md) une notice et des vidéos vous aident à construire votre poppy\n",
    "\n",
    "\n",
    "<u>Création :</u><br>\n",
    "Retrouvez toute la documentation pour imprimer et acheter individuellement les éléments nécessaires à la construction d'un « pypot robot » sur le site [poppy-project.org](http://www.poppy-project.org).\n",
    "\n",
    "Pour plus d'informations rendez-vous sur le [Forum](http://www.forum.poppy-project.org)"
   ]
  },
  {
   "cell_type": "markdown",
   "metadata": {},
   "source": [
    "##6 - Particularités des modèles physiques\n",
    "\n",
    "- l'initialisation se fait avec la commande \"PoppyHumanoid()\" et non \"PoppyHumanoid(simulator='vrep')\"\n",
    "\n",
    "\n",
    "- Les moteurs peuvent être dans deux états: compliant / non compliant\n",
    "\n",
    "    1. l'état compliant permet de déplacer manuellement les moteurs sans résistance.\n",
    "    2. l'état non compliant bloque les moteurs.\n",
    "    \n",
    "    Exemple: <br>\n",
    "    poppy.head_z.compliant = True<br>\n",
    "    poppy.head_z.compliant = False<br>\n",
    "\n",
    "\n",
    "- La vitesse des moteurs peut être modifiée via la fonction 'moving_speed'\n",
    "\n",
    "    Exemple: <br>\n",
    "    poppy.head_z.moving_speed = 150 #vitesse en milliseconde\n",
    "\n"
   ]
  },
  {
   "cell_type": "markdown",
   "metadata": {},
   "source": [
    "##7 - Aller plus loins\n",
    "\n",
    "- La possibiliter d'ajouter des object interactif (balle, cube, etc) plus de details [ici](https://forum.poppy-project.org/t/torso-interacting-with-objects-in-v-rep/1321)\n",
    "\n",
    "- Installation détailler [ici](https://github.com/HumaRobotics/poppy-examples/blob/master/doc/softwareGuide/softwareGuide.pdf)\n",
    "\n",
    "- d'autre notebook pour\n",
    "[V-REP](http://nbviewer.ipython.org/github/poppy-project/pypot/blob/master/samples/notebooks/Controlling%20a%20Poppy%20humanoid%20in%20V-REP%20using%20pypot.ipynb) ;\n",
    "[Torso](http://nbviewer.ipython.org/github/poppy-project/poppy-torso/blob/master/software/doc/tutorial/Poppy%20Torso%20interacting%20with%20objects%20in%20V-REP%20using%20Pypot.ipynb) ;\n",
    "[Snap!](http://nbviewer.ipython.org/github/poppy-project/pypot/blob/master/samples/notebooks/Controlling%20a%20Poppy%20Creature%20using%20SNAP.ipynb) ;\n",
    "et l'ensemble des notebooks via le site [poppy-project.org](http://poppy-project.org)\n"
   ]
  }
 ],
 "metadata": {
  "kernelspec": {
   "display_name": "Python 2",
   "language": "python",
   "name": "python2"
  },
  "language_info": {
   "codemirror_mode": {
    "name": "ipython",
    "version": 2
   },
   "file_extension": ".py",
   "mimetype": "text/x-python",
   "name": "python",
   "nbconvert_exporter": "python",
   "pygments_lexer": "ipython2",
   "version": "2.7.9"
  }
 },
 "nbformat": 4,
 "nbformat_minor": 0
}
