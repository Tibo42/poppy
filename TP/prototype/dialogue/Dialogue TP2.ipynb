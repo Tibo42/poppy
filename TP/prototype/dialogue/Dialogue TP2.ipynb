{
 "cells": [
  {
   "cell_type": "markdown",
   "metadata": {},
   "source": [
    "#ET – Niveau 1 - Python\n",
    "\n",
    "##TP2"
   ]
  },
  {
   "cell_type": "code",
   "execution_count": 1,
   "metadata": {
    "collapsed": true
   },
   "outputs": [],
   "source": [
    "from poppy.creatures import PoppyTorso\n",
    "poppy=PoppyTorso(simulator='vrep')"
   ]
  },
  {
   "cell_type": "code",
   "execution_count": 2,
   "metadata": {
    "collapsed": false
   },
   "outputs": [],
   "source": [
    "# Right (droite)\n",
    "poppy.r_shoulder_y.goal_position = -45\n",
    "poppy.r_shoulder_x.goal_position = -45\n",
    "poppy.r_arm_z.goal_position = 45\n",
    "poppy.r_elbow_y.goal_position = 0\n",
    "\n",
    "# Left (gauche)\n",
    "poppy.l_shoulder_y.goal_position = -90\n",
    "poppy.l_shoulder_x.goal_position = 45\n",
    "poppy.l_arm_z.goal_position = -45\n",
    "poppy.l_elbow_y.goal_position = 0\n",
    "\n",
    "# Head (tête)\n",
    "poppy.head_z.goal_position = 20"
   ]
  },
  {
   "cell_type": "markdown",
   "metadata": {},
   "source": [
    "####Tes bras vont mieux on dirait..."
   ]
  },
  {
   "cell_type": "code",
   "execution_count": 3,
   "metadata": {
    "collapsed": false
   },
   "outputs": [
    {
     "name": "stdout",
     "output_type": "stream",
     "text": [
      "0\n",
      "1\n",
      "2\n"
     ]
    }
   ],
   "source": [
    "# oui\n",
    "for i in range(0,3):\n",
    "    poppy.head_y.goto_position(15,0.5,wait=True)\n",
    "    poppy.head_y.goto_position(-15,0.5,wait=True)\n",
    "    print i\n",
    "poppy.head_y.goto_position(-15,0.1,wait=True)"
   ]
  },
  {
   "cell_type": "markdown",
   "metadata": {},
   "source": [
    "#### j'aimerais en savoir un peu plus sur toi, tu as beaucoup de moteurs ?"
   ]
  },
  {
   "cell_type": "code",
   "execution_count": 4,
   "metadata": {
    "collapsed": false
   },
   "outputs": [
    {
     "name": "stdout",
     "output_type": "stream",
     "text": [
      "13\n"
     ]
    }
   ],
   "source": [
    "print len(poppy.motors)"
   ]
  },
  {
   "cell_type": "markdown",
   "metadata": {},
   "source": [
    "#### hey, mais c'est encore ce poppy.motors?"
   ]
  },
  {
   "cell_type": "code",
   "execution_count": 5,
   "metadata": {
    "collapsed": false
   },
   "outputs": [
    {
     "name": "stdout",
     "output_type": "stream",
     "text": [
      "<type 'list'>\n"
     ]
    }
   ],
   "source": [
    "print type(poppy.motors)"
   ]
  },
  {
   "cell_type": "markdown",
   "metadata": {},
   "source": [
    "#### C'est quoi une liste ?!"
   ]
  },
  {
   "cell_type": "code",
   "execution_count": 6,
   "metadata": {
    "collapsed": false
   },
   "outputs": [
    {
     "name": "stdout",
     "output_type": "stream",
     "text": [
      "r_arm_z\n",
      "45.0\n",
      "----\n",
      "r_elbow_y\n",
      "0.0\n",
      "----\n",
      "l_arm_z\n",
      "-45.1\n",
      "----\n",
      "l_elbow_y\n",
      "0.0\n",
      "----\n",
      "abs_z\n",
      "0.0\n",
      "----\n",
      "r_shoulder_x\n",
      "-55.1\n",
      "----\n",
      "r_shoulder_y\n",
      "-45.0\n",
      "----\n",
      "head_y\n",
      "-19.5\n",
      "----\n",
      "head_z\n",
      "20.0\n",
      "----\n",
      "bust_y\n",
      "2.0\n",
      "----\n",
      "bust_x\n",
      "0.0\n",
      "----\n",
      "l_shoulder_x\n",
      "45.0\n",
      "----\n",
      "l_shoulder_y\n",
      "-91.3\n",
      "----\n"
     ]
    }
   ],
   "source": [
    "for m in poppy.motors:\n",
    "    print m.name\n",
    "    print m.present_position\n",
    "    print \"----\""
   ]
  },
  {
   "cell_type": "markdown",
   "metadata": {},
   "source": [
    "#### ah, c'est une sorte de boite qui contient de l'information ?"
   ]
  },
  {
   "cell_type": "code",
   "execution_count": 7,
   "metadata": {
    "collapsed": false
   },
   "outputs": [
    {
     "name": "stdout",
     "output_type": "stream",
     "text": [
      "0.5\n",
      "0.75\n",
      "1.0\n",
      "1.25\n"
     ]
    }
   ],
   "source": [
    "# OUI\n",
    "\n",
    "for i in range(50,150,25):\n",
    "    i= i*0.01\n",
    "    poppy.head_y.goto_position(15,i,wait=True)\n",
    "    poppy.head_y.goto_position(-15,i,wait=True)\n",
    "    print i\n",
    "poppy.head_y.goto_position(0,0.1,wait=True)"
   ]
  },
  {
   "cell_type": "markdown",
   "metadata": {},
   "source": [
    "#### ok, et si on créait une méthode pour communiquer?!"
   ]
  },
  {
   "cell_type": "code",
   "execution_count": 10,
   "metadata": {
    "collapsed": false
   },
   "outputs": [],
   "source": [
    "import time\n",
    "\n",
    "position_start = poppy.head_y.present_position\n",
    "\n",
    "poppy.head_y.goal_position = 10\n",
    "time.sleep(1)\n",
    "poppy.head_y.goal_position = -15\n",
    "time.sleep(1)\n",
    "poppy.head_y.goal_position = position_start"
   ]
  },
  {
   "cell_type": "markdown",
   "metadata": {},
   "source": [
    "#### Super, alors, on va décréter que:\n",
    "\n",
    "1. Si tu es d'accord, tu lèves le bras droit,\n",
    "2. Si tu n'es pas d'accord, tu lèves le bras gauche,\n",
    "3. Si tu ne sais pas, tu lèves puis descends les deux bras.\n",
    "\n",
    "Trouve le ou les bon(s) moteur(s), le bon axe, et la bonne position pour réaliser ces actions.\n",
    "\n",
    "#### C'est parti!"
   ]
  },
  {
   "cell_type": "code",
   "execution_count": null,
   "metadata": {
    "collapsed": true
   },
   "outputs": [],
   "source": [
    "# d'accord\n",
    "\n",
    "\n"
   ]
  },
  {
   "cell_type": "code",
   "execution_count": null,
   "metadata": {
    "collapsed": true
   },
   "outputs": [],
   "source": [
    "# pas d'accord\n",
    "\n",
    "\n"
   ]
  },
  {
   "cell_type": "code",
   "execution_count": null,
   "metadata": {
    "collapsed": true
   },
   "outputs": [],
   "source": [
    "# ne sait pas\n",
    "\n",
    "\n"
   ]
  },
  {
   "cell_type": "markdown",
   "metadata": {},
   "source": [
    "_________________________________________________________________\n",
    "\n",
    "\n",
    "#### Tu as raté? c'est pas grâve, recommmence, essaie ces lignes pour redémarrer :"
   ]
  },
  {
   "cell_type": "code",
   "execution_count": null,
   "metadata": {
    "collapsed": false
   },
   "outputs": [],
   "source": [
    "messager.reset_simulation()"
   ]
  },
  {
   "cell_type": "markdown",
   "metadata": {},
   "source": [
    "#### Encore buger ? essaie celles-ci :"
   ]
  },
  {
   "cell_type": "code",
   "execution_count": null,
   "metadata": {
    "collapsed": false
   },
   "outputs": [],
   "source": [
    "import pypot\n",
    "poppy.stop_simulation()\n",
    "pypot.vrep.close_all_connections()\n",
    "\n",
    "from poppy.creatures import PoppyTorso\n",
    "poppy=PoppyTorso(simulator='vrep')"
   ]
  },
  {
   "cell_type": "markdown",
   "metadata": {},
   "source": [
    "#### Tu as fini? coupe la simulation ici:"
   ]
  },
  {
   "cell_type": "code",
   "execution_count": 11,
   "metadata": {
    "collapsed": true
   },
   "outputs": [],
   "source": [
    "import pypot\n",
    "poppy.stop_simulation()\n",
    "pypot.vrep.close_all_connections()"
   ]
  }
 ],
 "metadata": {
  "kernelspec": {
   "display_name": "Python 2",
   "language": "python",
   "name": "python2"
  },
  "language_info": {
   "codemirror_mode": {
    "name": "ipython",
    "version": 2
   },
   "file_extension": ".py",
   "mimetype": "text/x-python",
   "name": "python",
   "nbconvert_exporter": "python",
   "pygments_lexer": "ipython2",
   "version": "2.7.9"
  }
 },
 "nbformat": 4,
 "nbformat_minor": 0
}
