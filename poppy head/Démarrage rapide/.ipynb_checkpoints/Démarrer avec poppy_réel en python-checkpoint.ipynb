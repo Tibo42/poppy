{
 "cells": [
  {
   "cell_type": "markdown",
   "metadata": {},
   "source": [
    "<img src=\"png/poppy.png\" HEIGHT=200 WIDTH=200 ALIGN=right>\n",
    "<img src=\"png/inria.jpg\" HEIGHT=150 WIDTH=325 ALIGN=left >"
   ]
  },
  {
   "cell_type": "markdown",
   "metadata": {},
   "source": [
    "\n",
    "#Premiers pas avec Poppy\n",
    "##### 7 choses à savoir sur poppy\n",
    "\n",
    "\n",
    "1. Instancier Poppy<br><br>\n",
    "2. Moteurs & capteurs de poppy \n",
    "    - liste 'poppy.motors' / fonction 'present_position'<br><br>\n",
    "3. Mode de compliance\n",
    "    - compliant = True<br><br>\n",
    "4. Bouger \n",
    "    - fonction 'goal_position'\n",
    "    - fonction 'goto_position'<br><br>\n",
    "6. Vitesse\n",
    "    - fonction 'moving_speed'<br><br>\n",
    "7. Mes premières fonctions\n",
    "    - 'record'\n",
    "    - 'play'<br><br>\n",
    "8. D'autres créatures\n",
    "    - réelles\n",
    "    - simulées\n"
   ]
  },
  {
   "cell_type": "markdown",
   "metadata": {},
   "source": [
    "##1 - Instancier Poppy\n",
    "éxécuter les commandes suivantes:"
   ]
  },
  {
   "cell_type": "code",
   "execution_count": 1,
   "metadata": {
    "collapsed": false
   },
   "outputs": [],
   "source": [
    "from poppy.creatures import PoppyTorso\n",
    "poppy = PoppyTorso()"
   ]
  },
  {
   "cell_type": "markdown",
   "metadata": {},
   "source": [
    "##2 - Moteurs & capteurs\n",
    "\n",
    "#####Poppy, comment tu fonctionnes?"
   ]
  },
  {
   "cell_type": "code",
   "execution_count": null,
   "metadata": {
    "collapsed": false
   },
   "outputs": [],
   "source": [
    "print\"Réponse:\"\n",
    "print \"j'ai\", len( poppy.motors ), \"moteurs\"\n",
    "print \"ils sont tous indexés dans une \", type( poppy.motors ), \"qui s'appelle poppy.motors \\n\\n la voici: \"\n",
    "for m in poppy.motors:\n",
    "    print \"-------------\"\n",
    "    print \"nom du moteur: \", m.name\n",
    "    print \"position actuelle du moteur: \", m.present_position, \"degrès\""
   ]
  },
  {
   "cell_type": "markdown",
   "metadata": {},
   "source": [
    "#####Explication:\n",
    "\n",
    "Ici on utilise une liste pour stocker le nom des moteurs: poppy.motors\n",
    "\n",
    "chaque moteur possède:\n",
    "\n",
    "- un nom ; exemple: poppy.head_z.name\n",
    "- une id ; exemple: poppy.head_z.id\n",
    "- une position courante ; exemple: poppy.head_z.present_position"
   ]
  },
  {
   "cell_type": "markdown",
   "metadata": {},
   "source": [
    "#####Aperçu de l'ensemble des moteurs:\n",
    "<img src=\"png/poppy nom moteur.png\" HEIGHT=800 WIDTH=600 ALIGN=center>"
   ]
  },
  {
   "cell_type": "markdown",
   "metadata": {},
   "source": [
    "##3 - Compliance\n",
    "\n",
    "- Les moteurs peuvent être dans deux états: compliant / no compliant\n",
    "\n",
    "    1. l'état compliant permet de déplacer manuellement les moteurs sans résistance.\n",
    "    2. l'état non compliant bloque les moteurs.\n",
    "    \n",
    "    Exemple ; Compliant = True: <br>"
   ]
  },
  {
   "cell_type": "code",
   "execution_count": null,
   "metadata": {
    "collapsed": true
   },
   "outputs": [],
   "source": [
    "# ici vous pouvez manipuler poppy\n",
    "poppy.head_z.compliant = True"
   ]
  },
  {
   "cell_type": "code",
   "execution_count": null,
   "metadata": {
    "collapsed": true
   },
   "outputs": [],
   "source": [
    "# lorsque vous le manipulez les positions courantes s'actualisent automatiquement\n",
    "import time\n",
    "exemple_5_secondes = 30\n",
    "flag=0\n",
    "\n",
    "while flag != exemple_10_secondes:\n",
    "    print poppy.head_z.present_position\n",
    "    time.sleep(0.1)\n",
    "    flag += 0.1"
   ]
  },
  {
   "cell_type": "markdown",
   "metadata": {},
   "source": [
    "mais aucune commande ne peut être éxécutée\n",
    "\n",
    "##4 - Bouger \n",
    "##fonction 'goal_position'\n",
    "\n",
    "#####Poppy, tu es prêt ?"
   ]
  },
  {
   "cell_type": "code",
   "execution_count": null,
   "metadata": {
    "collapsed": false
   },
   "outputs": [],
   "source": [
    "poppy.head_y.compliant=False\n",
    "\n",
    "# Poppy dit oui\n",
    "for i in range(2):\n",
    "    poppy.head_y.goal_position = -20\n",
    "    poppy.head_y.goal_position = +20\n",
    "poppy.head_y.goal_position = 0\n"
   ]
  },
  {
   "cell_type": "markdown",
   "metadata": {
    "collapsed": true
   },
   "source": [
    "#####Il ne se passe rien... si !\n",
    "#####mais Poppy va trop vite, essayons ça :"
   ]
  },
  {
   "cell_type": "code",
   "execution_count": null,
   "metadata": {
    "collapsed": true
   },
   "outputs": [],
   "source": [
    "# Poppy dit oui\n",
    "import time\n",
    "for i in range(2):\n",
    "    poppy.head_y.goal_position = -20\n",
    "    time.sleep(1)\n",
    "    poppy.head_y.goal_position = +20\n",
    "    time.sleep(1)\n",
    "poppy.head_y.goal_position = 0"
   ]
  },
  {
   "cell_type": "markdown",
   "metadata": {},
   "source": [
    "#####Explication:\n",
    "\n",
    "Ici on utilise la fonction '<b>goal_position</b>', précédée du nom du moteur, précédé du nom de la créature.\n",
    "\n",
    "Elle accepte des valeurs de positions allant de -180° à +180°<br>\n",
    "\n",
    "Les lignes de code s'exécutent de façon quasi instantannées ; même si la position (demandée en ligne précédente) n'a pas été atteinte.\n",
    "\n",
    "Le module 'Time' nous permet d'attendre (grâce à la fonction 'time.sleep') que le moteur ai atteint la position voulue avant d'exécuter la commande suivante."
   ]
  },
  {
   "cell_type": "markdown",
   "metadata": {},
   "source": [
    "##fonction 'goto_position'\n",
    "\n",
    "#####Bonjour Poppy"
   ]
  },
  {
   "cell_type": "code",
   "execution_count": null,
   "metadata": {
    "collapsed": false
   },
   "outputs": [],
   "source": [
    "poppy.compliant=False #bloque les moteurs ; en attente d'instructions\n",
    "\n",
    "'--lancement mouvement bras gauche--'\n",
    "poppy.l_shoulder_x.goto_position(90,2) #épaule\n",
    "poppy.l_arm_z.goto_position(90,2) #avant bras\n",
    "poppy.l_elbow_y.goto_position(-35,1,wait=True) # coude + attendre atteinte position\n",
    "\n",
    "\"--boucle bonjour--\"\n",
    "for i in range(3): # envoie 3 fois les lignes indentées\n",
    "    poppy.l_elbow_y.goto_position(-35,0.5,wait=True) # coude vers tête\n",
    "    poppy.l_elbow_y.goto_position(15,0.5,wait=True) # coude vers extérieur\n",
    "\n",
    "\"--retour position initiale--\"\n",
    "poppy.l_shoulder_x.goto_position(0,2) #épaule\n",
    "poppy.l_arm_z.goto_position(0,2) #avant bras\n",
    "poppy.l_elbow_y.goto_position(0,2) #coude"
   ]
  },
  {
   "cell_type": "markdown",
   "metadata": {},
   "source": [
    "#####Explication:\n",
    "\n",
    "Ici on utilise la fonction '<b>goto_position</b>', précédée du nom du moteur, précédé du nom de la créature.\n",
    "\n",
    "Elle accepte entre 2 et 3 paramètres:\n",
    " - la position en dégrès\n",
    " - le temps en secondes pour atteindre cette position\n",
    " - paramètre facultatif 'wait=True'\n",
    " \n",
    "L'option 'wait=True' permet d'attendre que la position soit atteinte avant de passer à la ligne suivante.<br>\n",
    "Par défaut 'wait=False' ne bloque pas le défilement, on peut donc lancer plusieurs moteurs au même moment."
   ]
  },
  {
   "cell_type": "markdown",
   "metadata": {},
   "source": [
    "##5 - Vitesse des moteurs - fonction 'moving_speed'\n",
    "\n",
    "- La vitesse des moteurs peut être modifiée via la fonction 'moving_speed'\n",
    "\n",
    "    Exemple: <br>"
   ]
  },
  {
   "cell_type": "code",
   "execution_count": null,
   "metadata": {
    "collapsed": true
   },
   "outputs": [],
   "source": [
    "poppy.head_z.moving_speed = 150 #vitesse en millisecondes\n",
    "\n",
    "poppy.head_z.goal_position = 20"
   ]
  },
  {
   "cell_type": "code",
   "execution_count": null,
   "metadata": {
    "collapsed": true
   },
   "outputs": [],
   "source": [
    "poppy.head_z.moving_speed = 50 #vitesse en millisecondes\n",
    "\n",
    "poppy.head_z.goal_position = 0"
   ]
  },
  {
   "cell_type": "markdown",
   "metadata": {},
   "source": [
    "##6 - Mes premières fonctions:\n",
    "\n",
    "L'une des premières approches pour découvrir Poppy, peut être l'apprentissage par démonstration.\n",
    "\n",
    "Voici l'exemple de 4 fonctions ; permettant:\n",
    "- d'enregistrer des mouvements durant un période donnée\n",
    "- de rejouer une séquence de mouvements\n",
    "- de sauvegarder les séquences dans un fichier texte\n",
    "- d'ouvrir une séquence enregistée"
   ]
  },
  {
   "cell_type": "code",
   "execution_count": 9,
   "metadata": {
    "collapsed": false
   },
   "outputs": [],
   "source": [
    "def record(seconde=10):\n",
    "    \"--init--\"\n",
    "    import time\n",
    "    poppy.compliant = True # poppy maléable\n",
    "    tmp = 0 # variable temps\n",
    "    position = {} # dictionnaire pour stocker les positions de chaque moteur\n",
    "    position['time'] = seconde # sauvegarde durée séquence\n",
    "    for m in poppy.motors: position[m] = [] # init dictionnaire: une liste par moteur\n",
    "        \n",
    "    \"--record--\"\n",
    "    while tmp<seconde: # tant que le temps écoulé est inférieur à la durée voulue\n",
    "        time.sleep(0.01) # attendre 0.01 seconde\n",
    "        for m in poppy.motors: # m prend tour à tour la valeur des moteurs\n",
    "            position[m.name].append(m.present_position) # enregistre la position du moteur\n",
    "        tmp+=0.01 # ajoute au temps écoulé\n",
    "    \"--return--\"\n",
    "    poppy.compliant=False\n",
    "    return position\n",
    "\n",
    "test = record()"
   ]
  },
  {
   "cell_type": "code",
   "execution_count": 10,
   "metadata": {
    "collapsed": false
   },
   "outputs": [],
   "source": [
    "def play(dico):\n",
    "    \"--init--\"\n",
    "    import time\n",
    "    poppy.compliant=False\n",
    "    tmp=0\n",
    "    \"--play--\"\n",
    "    while tmp < dico['time']:\n",
    "        time.sleep(0.01)\n",
    "        for m in poppy.motors:\n",
    "            m.goal_position= dic[m.name][int(tmp*100)]\n",
    "        tmp+=0.01\n",
    "    \"--end--\"\n",
    "    poppy.compliant=True\n",
    "    \n",
    "play(test)"
   ]
  },
  {
   "cell_type": "code",
   "execution_count": 6,
   "metadata": {
    "collapsed": false
   },
   "outputs": [],
   "source": [
    "def save(dico, nom='Exemple de mouvement/save.txt'):\n",
    "    f=open(nom,'wb')\n",
    "    f.write(str(dico))\n",
    "    f.close()\n",
    "    \n",
    "save(test)"
   ]
  },
  {
   "cell_type": "code",
   "execution_count": 41,
   "metadata": {
    "collapsed": false
   },
   "outputs": [],
   "source": [
    "def open_save(nom='Exemple de mouvement/save.txt'):   \n",
    "    f=open(nom,'rb')\n",
    "    return eval(f.read())\n",
    "\n",
    "test_ouverture = open_save()\n",
    "play(test_ouverture)"
   ]
  },
  {
   "cell_type": "markdown",
   "metadata": {},
   "source": [
    "##7 - D'autres créatures (simulées)\n",
    "\n",
    "#####Poppy, y a t-il d'autres créatures comme toi ?"
   ]
  },
  {
   "cell_type": "code",
   "execution_count": null,
   "metadata": {
    "collapsed": false
   },
   "outputs": [],
   "source": [
    "for i in range(3):\n",
    "    poppy.head_y.goto_position(-20,0.8,wait=True)\n",
    "    poppy.head_y.goto_position(+10,0.8,wait=True)\n",
    "poppy.head_y.goto_position(0,0.5)\n",
    "\n",
    "print \"Torso, Ergo, et toute la family\""
   ]
  },
  {
   "cell_type": "markdown",
   "metadata": {},
   "source": [
    "Plus d'informations sur les prochaines créatures Poppy sur ce topic : [Poppy mini family](https://forum.poppy-project.org/t/cfc-extending-the-poppy-mini-family-we-need-your-help/1346)\n",
    "\n",
    "####Instancier Poppy-Torso\n",
    "Pour démarrer la simulation ; éxécuter les commandes suivantes:"
   ]
  },
  {
   "cell_type": "code",
   "execution_count": null,
   "metadata": {
    "collapsed": true
   },
   "outputs": [],
   "source": [
    "#si une simulation est active, n'oubliez pas de la quitter\n",
    "from poppy.creatures import PoppyHumanoid\n",
    "torso = PoppyTorso(simulator='vrep')"
   ]
  },
  {
   "cell_type": "markdown",
   "metadata": {},
   "source": [
    "####Instancier Ergo\n",
    "Pour démarrer la simulation ; éxécuter les commandes suivantes:"
   ]
  },
  {
   "cell_type": "code",
   "execution_count": null,
   "metadata": {
    "collapsed": false
   },
   "outputs": [],
   "source": [
    "#si une simulation est active, n'oubliez pas de la quitter\n",
    "from poppy.creatures import PoppyErgo\n",
    "ergo = PoppyErgo(simulator='vrep')"
   ]
  },
  {
   "cell_type": "markdown",
   "metadata": {},
   "source": [
    "etc"
   ]
  }
 ],
 "metadata": {
  "kernelspec": {
   "display_name": "Python 2",
   "language": "python",
   "name": "python2"
  },
  "language_info": {
   "codemirror_mode": {
    "name": "ipython",
    "version": 2
   },
   "file_extension": ".py",
   "mimetype": "text/x-python",
   "name": "python",
   "nbconvert_exporter": "python",
   "pygments_lexer": "ipython2",
   "version": "2.7.9"
  }
 },
 "nbformat": 4,
 "nbformat_minor": 0
}
