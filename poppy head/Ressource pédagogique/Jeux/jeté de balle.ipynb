{
 "cells": [
  {
   "cell_type": "markdown",
   "metadata": {},
   "source": [
    "##Jeté de balle – Niveau 1 - Python\n",
    "\n",
    "###TP1"
   ]
  },
  {
   "cell_type": "markdown",
   "metadata": {},
   "source": [
    "Pour commencer votre programme python devra contenir les lignes de code ci-dessous et le logiciel V-REP devra être lancé.\n",
    "\n",
    "\n",
    "- Dans V-REP (en haut à gauche) utilise les deux icones flèche pour déplacer la vue et regarder poppy sous tous les angles.<br>\n",
    "- Dans notebook, utilise le racourci 'Ctrl+Enter' pour éxécuter les commandes."
   ]
  },
  {
   "cell_type": "code",
   "execution_count": 1,
   "metadata": {
    "collapsed": true
   },
   "outputs": [],
   "source": [
    "import time\n",
    "from poppy.creatures import PoppyTorso\n",
    "poppy = PoppyTorso(simulator='vrep')"
   ]
  },
  {
   "cell_type": "markdown",
   "metadata": {},
   "source": [
    "####Ajouter un objet"
   ]
  },
  {
   "cell_type": "code",
   "execution_count": 122,
   "metadata": {
    "collapsed": false
   },
   "outputs": [],
   "source": [
    "io = poppy._controllers[0].io\n",
    "name = 'cube'\n",
    "position = [0.2, 0, 1] # X, Y, Z\n",
    "sizes = [0.15, 0.15, 0.15] # in meters\n",
    "mass = 0.1 # in kg\n",
    "io.add_cube(name, position, sizes, mass)\n"
   ]
  },
  {
   "cell_type": "markdown",
   "metadata": {},
   "source": [
    "####Quelques exemples de mouvement \"utile\":"
   ]
  },
  {
   "cell_type": "code",
   "execution_count": 58,
   "metadata": {
    "collapsed": false
   },
   "outputs": [],
   "source": [
    "#ouvrir\n",
    "poppy.l_arm_z.goal_position = 20\n",
    "poppy.r_arm_z.goal_position = -20\n"
   ]
  },
  {
   "cell_type": "code",
   "execution_count": 121,
   "metadata": {
    "collapsed": true
   },
   "outputs": [],
   "source": [
    "#fermer\n",
    "poppy.l_arm_z.goal_position = -20\n",
    "poppy.r_arm_z.goal_position = 20\n",
    "poppy.l_shoulder_y.goal_position = -40\n",
    "poppy.r_shoulder_y.goal_position = -40"
   ]
  },
  {
   "cell_type": "code",
   "execution_count": 123,
   "metadata": {
    "collapsed": false
   },
   "outputs": [],
   "source": [
    "#lever\n",
    "poppy.l_shoulder_y.goto_position(-180,0.1)\n",
    "poppy.r_shoulder_y.goto_position(-180,0.1)"
   ]
  },
  {
   "cell_type": "code",
   "execution_count": 90,
   "metadata": {
    "collapsed": true
   },
   "outputs": [],
   "source": [
    "#jeter\n",
    "poppy.l_shoulder_y.goal_position = -40\n",
    "poppy.r_shoulder_y.goal_position = -40\n",
    "poppy.l_arm_z.goal_position = 20\n",
    "poppy.r_arm_z.goal_position = -20\n"
   ]
  },
  {
   "cell_type": "code",
   "execution_count": null,
   "metadata": {
    "collapsed": true
   },
   "outputs": [],
   "source": []
  },
  {
   "cell_type": "markdown",
   "metadata": {},
   "source": [
    "Solution possible:\n",
    "\n",
    "reprise de volet\n",
    "catapulte\n",
    "attrape puis jéte\n",
    "\n",
    "\n",
    "Aide ajusté l'objet, forme, taille, poid, position...;"
   ]
  },
  {
   "cell_type": "markdown",
   "metadata": {},
   "source": [
    "_________________________________________________________________\n",
    "\n",
    "\n",
    "#### Tu as raté? c'est pas grâve, recommmence, essaie ces lignes pour redémarrer :"
   ]
  },
  {
   "cell_type": "code",
   "execution_count": 120,
   "metadata": {
    "collapsed": false
   },
   "outputs": [],
   "source": [
    "poppy.reset_simulation()"
   ]
  },
  {
   "cell_type": "markdown",
   "metadata": {},
   "source": [
    "#### Encore buger ? essaie celles-ci :"
   ]
  },
  {
   "cell_type": "code",
   "execution_count": null,
   "metadata": {
    "collapsed": true
   },
   "outputs": [],
   "source": [
    "import pypot\n",
    "poppy.stop_simulation()\n",
    "pypot.vrep.close_all_connections()\n",
    "\n",
    "from poppy.creatures import PoppyTorso\n",
    "poppy=PoppyTorso(simulator='vrep')"
   ]
  },
  {
   "cell_type": "markdown",
   "metadata": {},
   "source": [
    "#### Tu as fini? coupe la simulation ici:"
   ]
  },
  {
   "cell_type": "code",
   "execution_count": null,
   "metadata": {
    "collapsed": true
   },
   "outputs": [],
   "source": [
    "import pypot\n",
    "poppy.stop_simulation()\n",
    "pypot.vrep.close_all_connections()"
   ]
  }
 ],
 "metadata": {
  "kernelspec": {
   "display_name": "Python 2",
   "language": "python",
   "name": "python2"
  },
  "language_info": {
   "codemirror_mode": {
    "name": "ipython",
    "version": 2
   },
   "file_extension": ".py",
   "mimetype": "text/x-python",
   "name": "python",
   "nbconvert_exporter": "python",
   "pygments_lexer": "ipython2",
   "version": "2.7.9"
  }
 },
 "nbformat": 4,
 "nbformat_minor": 0
}
